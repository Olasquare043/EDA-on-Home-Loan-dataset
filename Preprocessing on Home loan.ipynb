{
 "cells": [
  {
   "cell_type": "markdown",
   "id": "6c8bca95",
   "metadata": {},
   "source": [
    "# **DATA PREPROCESSING BASED ON EDA INSIGHTS**"
   ]
  },
  {
   "cell_type": "markdown",
   "id": "3368b217",
   "metadata": {},
   "source": [
    "This notebook implements preprocessing steps based on the comprehensive EDA findings and recommendations. It follows the evidence-based approach from the EDA report to ensure our preprocessing aligns with the data patterns discovered.\n",
    "Based on the EDA report, I will:\n",
    "1. **Handled missing values properly**\n",
    "2. **Handle Skewed Variables** - Application Income, Coapplication Income and Loan amount.\n",
    "3. **Outlier Treatment** - IQR-capping for extreme Application Income, Coapplication Income and Loan amount\n",
    "4. **Feature Engineering** - Create and interaction features\n",
    "    - Total Income (TotalIncome = ApplicantIncome + CoapplicantIncome)\n",
    "    - Debt-to-Income Ratio (DTI = LoanAmount / TotalIncome)\n",
    "    - Equated Monthly Instalment Feature (EMI = LoanAmount / Loan_Amount_Term)\n",
    "5. **Feature Selection** - Keep high-signal features, evaluate low-signal ones\n",
    "6. **Scaling** - StandardScaler for distance-based models\n",
    "7. **Target Handling** - Classification approach with stratified splits"
   ]
  },
  {
   "cell_type": "code",
   "execution_count": 1,
   "id": "4a9ac4c5",
   "metadata": {},
   "outputs": [],
   "source": [
    "# let call all neccessary libraies\n",
    "import pandas as pd\n",
    "import matplotlib.pyplot as plt\n",
    "import seaborn as sns\n",
    "import scipy as stat "
   ]
  },
  {
   "cell_type": "code",
   "execution_count": 3,
   "id": "31c9b823",
   "metadata": {},
   "outputs": [],
   "source": [
    "# let load the data from EDA\n",
    "# load the test data\n",
    "df = pd.read_csv(\"EDA_data.csv\")"
   ]
  },
  {
   "cell_type": "code",
   "execution_count": 4,
   "id": "3a118324",
   "metadata": {},
   "outputs": [
    {
     "data": {
      "text/html": [
       "<div>\n",
       "<style scoped>\n",
       "    .dataframe tbody tr th:only-of-type {\n",
       "        vertical-align: middle;\n",
       "    }\n",
       "\n",
       "    .dataframe tbody tr th {\n",
       "        vertical-align: top;\n",
       "    }\n",
       "\n",
       "    .dataframe thead th {\n",
       "        text-align: right;\n",
       "    }\n",
       "</style>\n",
       "<table border=\"1\" class=\"dataframe\">\n",
       "  <thead>\n",
       "    <tr style=\"text-align: right;\">\n",
       "      <th></th>\n",
       "      <th>Loan_ID</th>\n",
       "      <th>Gender</th>\n",
       "      <th>Married</th>\n",
       "      <th>Dependents</th>\n",
       "      <th>Education</th>\n",
       "      <th>Self_Employed</th>\n",
       "      <th>ApplicantIncome</th>\n",
       "      <th>CoapplicantIncome</th>\n",
       "      <th>LoanAmount</th>\n",
       "      <th>Loan_Amount_Term</th>\n",
       "      <th>Credit_History</th>\n",
       "      <th>Property_Area</th>\n",
       "      <th>Loan_Status</th>\n",
       "      <th>Loan_Status_val</th>\n",
       "    </tr>\n",
       "  </thead>\n",
       "  <tbody>\n",
       "    <tr>\n",
       "      <th>0</th>\n",
       "      <td>LP001003</td>\n",
       "      <td>Male</td>\n",
       "      <td>Yes</td>\n",
       "      <td>1</td>\n",
       "      <td>Graduate</td>\n",
       "      <td>No</td>\n",
       "      <td>4583.0</td>\n",
       "      <td>1508.0</td>\n",
       "      <td>128.0</td>\n",
       "      <td>360</td>\n",
       "      <td>1</td>\n",
       "      <td>Rural</td>\n",
       "      <td>N</td>\n",
       "      <td>0</td>\n",
       "    </tr>\n",
       "    <tr>\n",
       "      <th>1</th>\n",
       "      <td>LP001005</td>\n",
       "      <td>Male</td>\n",
       "      <td>Yes</td>\n",
       "      <td>0</td>\n",
       "      <td>Graduate</td>\n",
       "      <td>Yes</td>\n",
       "      <td>3000.0</td>\n",
       "      <td>0.0</td>\n",
       "      <td>66.0</td>\n",
       "      <td>360</td>\n",
       "      <td>1</td>\n",
       "      <td>Urban</td>\n",
       "      <td>Y</td>\n",
       "      <td>1</td>\n",
       "    </tr>\n",
       "    <tr>\n",
       "      <th>2</th>\n",
       "      <td>LP001006</td>\n",
       "      <td>Male</td>\n",
       "      <td>Yes</td>\n",
       "      <td>0</td>\n",
       "      <td>Not Graduate</td>\n",
       "      <td>No</td>\n",
       "      <td>2583.0</td>\n",
       "      <td>2358.0</td>\n",
       "      <td>120.0</td>\n",
       "      <td>360</td>\n",
       "      <td>1</td>\n",
       "      <td>Urban</td>\n",
       "      <td>Y</td>\n",
       "      <td>1</td>\n",
       "    </tr>\n",
       "    <tr>\n",
       "      <th>3</th>\n",
       "      <td>LP001008</td>\n",
       "      <td>Male</td>\n",
       "      <td>No</td>\n",
       "      <td>0</td>\n",
       "      <td>Graduate</td>\n",
       "      <td>No</td>\n",
       "      <td>6000.0</td>\n",
       "      <td>0.0</td>\n",
       "      <td>141.0</td>\n",
       "      <td>360</td>\n",
       "      <td>1</td>\n",
       "      <td>Urban</td>\n",
       "      <td>Y</td>\n",
       "      <td>1</td>\n",
       "    </tr>\n",
       "    <tr>\n",
       "      <th>4</th>\n",
       "      <td>LP001011</td>\n",
       "      <td>Male</td>\n",
       "      <td>Yes</td>\n",
       "      <td>2</td>\n",
       "      <td>Graduate</td>\n",
       "      <td>Yes</td>\n",
       "      <td>5417.0</td>\n",
       "      <td>4196.0</td>\n",
       "      <td>267.0</td>\n",
       "      <td>360</td>\n",
       "      <td>1</td>\n",
       "      <td>Urban</td>\n",
       "      <td>Y</td>\n",
       "      <td>1</td>\n",
       "    </tr>\n",
       "  </tbody>\n",
       "</table>\n",
       "</div>"
      ],
      "text/plain": [
       "    Loan_ID Gender Married  Dependents     Education Self_Employed  \\\n",
       "0  LP001003   Male     Yes           1      Graduate            No   \n",
       "1  LP001005   Male     Yes           0      Graduate           Yes   \n",
       "2  LP001006   Male     Yes           0  Not Graduate            No   \n",
       "3  LP001008   Male      No           0      Graduate            No   \n",
       "4  LP001011   Male     Yes           2      Graduate           Yes   \n",
       "\n",
       "   ApplicantIncome  CoapplicantIncome  LoanAmount  Loan_Amount_Term  \\\n",
       "0           4583.0             1508.0       128.0               360   \n",
       "1           3000.0                0.0        66.0               360   \n",
       "2           2583.0             2358.0       120.0               360   \n",
       "3           6000.0                0.0       141.0               360   \n",
       "4           5417.0             4196.0       267.0               360   \n",
       "\n",
       "   Credit_History Property_Area Loan_Status  Loan_Status_val  \n",
       "0               1         Rural           N                0  \n",
       "1               1         Urban           Y                1  \n",
       "2               1         Urban           Y                1  \n",
       "3               1         Urban           Y                1  \n",
       "4               1         Urban           Y                1  "
      ]
     },
     "execution_count": 4,
     "metadata": {},
     "output_type": "execute_result"
    }
   ],
   "source": [
    "df.head()"
   ]
  },
  {
   "cell_type": "markdown",
   "id": "b886b625",
   "metadata": {},
   "source": [
    "## 1. **Handled missing values properly**"
   ]
  },
  {
   "cell_type": "code",
   "execution_count": 5,
   "id": "44079662",
   "metadata": {},
   "outputs": [
    {
     "data": {
      "text/plain": [
       "Loan_ID              0\n",
       "Gender               0\n",
       "Married              0\n",
       "Dependents           0\n",
       "Education            0\n",
       "Self_Employed        0\n",
       "ApplicantIncome      0\n",
       "CoapplicantIncome    0\n",
       "LoanAmount           0\n",
       "Loan_Amount_Term     0\n",
       "Credit_History       0\n",
       "Property_Area        0\n",
       "Loan_Status          0\n",
       "Loan_Status_val      0\n",
       "dtype: int64"
      ]
     },
     "execution_count": 5,
     "metadata": {},
     "output_type": "execute_result"
    }
   ],
   "source": [
    "# let check the if missing value still existing\n",
    "df.isna().sum()"
   ]
  },
  {
   "cell_type": "markdown",
   "id": "7f5fe1f7",
   "metadata": {},
   "source": [
    "## 2. Handle Skewed Variables\n",
    "\n"
   ]
  },
  {
   "cell_type": "code",
   "execution_count": null,
   "id": "27e6e741",
   "metadata": {},
   "outputs": [],
   "source": []
  },
  {
   "cell_type": "markdown",
   "id": "d9e250b5",
   "metadata": {},
   "source": [
    "## 3. **Outlier Treatment** - IQR-capping for extreme Application Income, Coapplication Income and Loan amount"
   ]
  },
  {
   "cell_type": "markdown",
   "id": "222c81cf",
   "metadata": {},
   "source": [
    "## 4. **Feature Engineering** - Create and interaction features\n",
    "\n",
    "-   Total Income (TotalIncome = ApplicantIncome + CoapplicantIncome)\n",
    "-   Debt-to-Income Ratio (DTI = LoanAmount / TotalIncome)\n",
    "-   Equated Monthly Instalment Feature (EMI = LoanAmount / Loan_Amount_Term)"
   ]
  }
 ],
 "metadata": {
  "kernelspec": {
   "display_name": "Python 3",
   "language": "python",
   "name": "python3"
  },
  "language_info": {
   "codemirror_mode": {
    "name": "ipython",
    "version": 3
   },
   "file_extension": ".py",
   "mimetype": "text/x-python",
   "name": "python",
   "nbconvert_exporter": "python",
   "pygments_lexer": "ipython3",
   "version": "3.13.7"
  }
 },
 "nbformat": 4,
 "nbformat_minor": 5
}
