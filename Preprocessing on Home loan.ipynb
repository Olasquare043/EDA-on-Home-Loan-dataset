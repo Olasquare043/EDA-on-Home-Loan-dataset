{
 "cells": [
  {
   "cell_type": "markdown",
   "id": "6c8bca95",
   "metadata": {},
   "source": [
    "# **DATA PREPROCESSING BASED ON EDA INSIGHTS**"
   ]
  },
  {
   "cell_type": "markdown",
   "id": "3368b217",
   "metadata": {},
   "source": [
    "This notebook implements preprocessing steps based on the comprehensive EDA findings and recommendations. It follows the evidence-based approach from the EDA report to ensure our preprocessing aligns with the data patterns discovered.\n",
    "Based on the EDA report, I will:\n",
    "1. **Handled missing values properly**\n",
    "2. **Handle Skewed Variables** - Application Income, Coapplication Income and Loan amount.\n",
    "3. **Outlier Treatment** - IQR-capping for extreme Application Income, Coapplication Income and Loan amount\n",
    "4. **Feature Engineering** - Create and interaction features\n",
    "    - Total Income (TotalIncome = ApplicantIncome + CoapplicantIncome)\n",
    "    - Debt-to-Income Ratio (DTI = LoanAmount / TotalIncome)\n",
    "    - Equated Monthly Instalment Feature (EMI = LoanAmount / Loan_Amount_Term)\n",
    "5. **Feature Selection** - Keep high-signal features, evaluate low-signal ones\n",
    "6. **Scaling** - StandardScaler for distance-based models\n",
    "7. **Target Handling** - Classification approach with stratified splits"
   ]
  },
  {
   "cell_type": "code",
   "execution_count": null,
   "id": "4a9ac4c5",
   "metadata": {},
   "outputs": [],
   "source": [
    "# let call all neccessary libraies\n",
    "import pandas as pd\n",
    "import matplotlib.pyplot as plt\n",
    "import seaborn as sns\n",
    "import scipy as stat "
   ]
  },
  {
   "cell_type": "code",
   "execution_count": null,
   "id": "31c9b823",
   "metadata": {},
   "outputs": [],
   "source": [
    "# let load the data from EDA\n",
    "# load the test data\n",
    "test_data = pd.read_csv()"
   ]
  },
  {
   "cell_type": "markdown",
   "id": "b886b625",
   "metadata": {},
   "source": [
    "## 1. **Handled missing values properly**"
   ]
  },
  {
   "cell_type": "code",
   "execution_count": null,
   "id": "44079662",
   "metadata": {},
   "outputs": [],
   "source": [
    "# let check the if missing value still existing\n"
   ]
  },
  {
   "cell_type": "markdown",
   "id": "7f5fe1f7",
   "metadata": {},
   "source": [
    "## 2. Handle Skewed Variables"
   ]
  },
  {
   "cell_type": "markdown",
   "id": "d9e250b5",
   "metadata": {},
   "source": [
    "## 3. **Outlier Treatment** - IQR-capping for extreme Application Income, Coapplication Income and Loan amount"
   ]
  },
  {
   "cell_type": "markdown",
   "id": "222c81cf",
   "metadata": {},
   "source": [
    "## 4. **Feature Engineering** - Create and interaction features\n",
    "\n",
    "-   Total Income (TotalIncome = ApplicantIncome + CoapplicantIncome)\n",
    "-   Debt-to-Income Ratio (DTI = LoanAmount / TotalIncome)\n",
    "-   Equated Monthly Instalment Feature (EMI = LoanAmount / Loan_Amount_Term)"
   ]
  }
 ],
 "metadata": {
  "kernelspec": {
   "display_name": "base",
   "language": "python",
   "name": "python3"
  },
  "language_info": {
   "name": "python",
   "version": "3.12.7"
  }
 },
 "nbformat": 4,
 "nbformat_minor": 5
}
